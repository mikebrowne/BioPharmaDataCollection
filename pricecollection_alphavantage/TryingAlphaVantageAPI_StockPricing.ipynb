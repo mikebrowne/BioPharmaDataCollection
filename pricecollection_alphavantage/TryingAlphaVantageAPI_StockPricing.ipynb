{
 "cells": [
  {
   "cell_type": "markdown",
   "metadata": {},
   "source": [
    "https://www.alphavantage.co/documentation/"
   ]
  },
  {
   "cell_type": "code",
   "execution_count": 29,
   "metadata": {},
   "outputs": [],
   "source": [
    "with open(\"AlphaVantageAPI.txt\", \"r\") as doc:\n",
    "    api_key = doc.read()"
   ]
  },
  {
   "cell_type": "code",
   "execution_count": 38,
   "metadata": {},
   "outputs": [],
   "source": [
    "from alpha_vantage.timeseries import TimeSeries\n",
    "ts = TimeSeries(key=api_key, output_format='pandas', indexing_type='date')\n",
    "# Get json object with the intraday data and another with  the call's metadata\n",
    "data, meta_data = ts.get_daily_adjusted('GOOGL', outputsize=\"full\")"
   ]
  },
  {
   "cell_type": "code",
   "execution_count": 41,
   "metadata": {},
   "outputs": [
    {
     "data": {
      "text/plain": [
       "date\n",
       "2004-08-19      50.3228\n",
       "2004-08-20      54.3227\n",
       "2004-08-23      54.8694\n",
       "2004-08-24      52.5974\n",
       "2004-08-25      53.1641\n",
       "2004-08-26      54.1221\n",
       "2004-08-27      53.2393\n",
       "2004-08-30      51.1629\n",
       "2004-08-31      51.3435\n",
       "2004-09-01      50.2802\n",
       "2004-09-02      50.9122\n",
       "2004-09-03      50.1598\n",
       "2004-09-07      50.9473\n",
       "2004-09-08      51.3084\n",
       "2004-09-09      51.3134\n",
       "2004-09-10      52.8281\n",
       "2004-09-13      53.9164\n",
       "2004-09-14      55.9176\n",
       "2004-09-15      56.1734\n",
       "2004-09-16      57.1615\n",
       "2004-09-17      58.9269\n",
       "2004-09-20      59.8648\n",
       "2004-09-21      59.1024\n",
       "2004-09-22      59.3733\n",
       "2004-09-23      60.5971\n",
       "2004-09-24      60.1005\n",
       "2004-09-27      59.3131\n",
       "2004-09-28      63.6264\n",
       "2004-09-29      65.7429\n",
       "2004-09-30      65.0007\n",
       "                ...    \n",
       "2019-05-10    1167.6400\n",
       "2019-05-13    1136.5900\n",
       "2019-05-14    1124.8600\n",
       "2019-05-15    1170.8000\n",
       "2019-05-16    1184.5000\n",
       "2019-05-17    1168.7800\n",
       "2019-05-20    1144.6600\n",
       "2019-05-21    1154.4400\n",
       "2019-05-22    1155.8500\n",
       "2019-05-23    1145.3400\n",
       "2019-05-24    1138.6100\n",
       "2019-05-28    1139.5600\n",
       "2019-05-29    1119.9400\n",
       "2019-05-30    1121.4100\n",
       "2019-05-31    1106.5000\n",
       "2019-06-03    1038.7400\n",
       "2019-06-04    1054.4900\n",
       "2019-06-05    1044.6400\n",
       "2019-06-06    1047.7600\n",
       "2019-06-07    1068.3700\n",
       "2019-06-10    1082.7600\n",
       "2019-06-11    1081.0400\n",
       "2019-06-12    1079.1000\n",
       "2019-06-13    1091.0100\n",
       "2019-06-14    1086.3000\n",
       "2019-06-17    1093.8900\n",
       "2019-06-18    1105.2400\n",
       "2019-06-19    1104.5100\n",
       "2019-06-20    1113.2000\n",
       "2019-06-21    1125.3700\n",
       "Name: 5. adjusted close, Length: 3736, dtype: float64"
      ]
     },
     "execution_count": 41,
     "metadata": {},
     "output_type": "execute_result"
    }
   ],
   "source": [
    "data[\"5. adjusted close\"]"
   ]
  }
 ],
 "metadata": {
  "kernelspec": {
   "display_name": "Python 3",
   "language": "python",
   "name": "python3"
  },
  "language_info": {
   "codemirror_mode": {
    "name": "ipython",
    "version": 3
   },
   "file_extension": ".py",
   "mimetype": "text/x-python",
   "name": "python",
   "nbconvert_exporter": "python",
   "pygments_lexer": "ipython3",
   "version": "3.6.5"
  }
 },
 "nbformat": 4,
 "nbformat_minor": 2
}
